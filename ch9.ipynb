{
 "cells": [
  {
   "cell_type": "code",
   "execution_count": 2,
   "metadata": {},
   "outputs": [],
   "source": [
    "# Imports\n",
    "from selenium import webdriver\n",
    "from selenium.webdriver.common.by import By\n",
    "from selenium.common.exceptions import NoSuchElementException\n",
    "\n",
    "import json\n",
    "import pandas as pd"
   ]
  },
  {
   "cell_type": "markdown",
   "metadata": {},
   "source": [
    "# Activate Driver"
   ]
  },
  {
   "cell_type": "code",
   "execution_count": 3,
   "metadata": {},
   "outputs": [],
   "source": [
    "# Start a new Chrome browser\n",
    "driver = webdriver.Chrome()"
   ]
  },
  {
   "cell_type": "markdown",
   "metadata": {},
   "source": [
    "# Get All Problem URLs\n"
   ]
  },
  {
   "cell_type": "code",
   "execution_count": null,
   "metadata": {},
   "outputs": [],
   "source": [
    "# Initialize\n",
    "links = []\n",
    "\n",
    "# Open zeroJudge problems page\n",
    "driver.get(\"https://zerojudge.tw/Problems\")\n",
    "\n",
    "\n",
    "while True:\n",
    "    try:\n",
    "        # Get problem titles\n",
    "        titleElements = driver.find_elements(\n",
    "            By.CSS_SELECTOR,\n",
    "            \"body > div.container > div > table > tbody > tr > td:nth-child(3) > a\",\n",
    "        )\n",
    "\n",
    "        # Get problem links\n",
    "        for titleElement in titleElements:\n",
    "            links.append(titleElement.get_attribute(\"href\"))\n",
    "\n",
    "        # Find next page link (button)\n",
    "        nextLinkElement = None\n",
    "        nextPageElements = driver.find_elements(By.CSS_SELECTOR, \"#pagging > a\")\n",
    "        for nextPageElement in nextPageElements:\n",
    "            if nextPageElement.text == \"下一頁\":\n",
    "                nextLinkElement = nextPageElement\n",
    "                break\n",
    "        if nextLinkElement is None:\n",
    "            break\n",
    "        nextLinkElement.click()\n",
    "    except NoSuchElementException:\n",
    "        break\n",
    "\n",
    "# Export Links\n",
    "with open(\"ProblemLinks.json\", \"w\") as file:\n",
    "    json.dump(links, file)"
   ]
  },
  {
   "cell_type": "markdown",
   "metadata": {},
   "source": [
    "# Scrape Data From Problem URLs\n"
   ]
  },
  {
   "cell_type": "code",
   "execution_count": 74,
   "metadata": {},
   "outputs": [],
   "source": [
    "# Initialize\n",
    "probNums = []\n",
    "titles = []\n",
    "tags = []\n",
    "passRates = []\n",
    "refs = []\n",
    "\n",
    "# Load Links\n",
    "links = []\n",
    "with open(\"ProblemLinks.json\", \"r\") as file:\n",
    "    links = json.load(file)\n",
    "\n",
    "# Scrape Data\n",
    "for link in links:\n",
    "    # link = links[0]\n",
    "    driver.get(link)\n",
    "\n",
    "    # probNums\n",
    "    probNum = link.split(\"=\")[-1]\n",
    "\n",
    "    # titles\n",
    "    titleElement = driver.find_element(By.ID, \"problem_title\")\n",
    "    title = titleElement.text\n",
    "\n",
    "    # tags\n",
    "    try:\n",
    "        tagElement = driver.find_element(\n",
    "            By.CSS_SELECTOR,\n",
    "            \"body > div.container > div.row.Consolas > div.col-md-4 > span.tag\",\n",
    "        )\n",
    "        tag = tagElement.text\n",
    "    except NoSuchElementException:\n",
    "        tag = \"\"\n",
    "\n",
    "    # passRates\n",
    "    try:\n",
    "        passRateElement = driver.find_element(\n",
    "            By.CSS_SELECTOR,\n",
    "            \"span[title='解題統計']\",\n",
    "        )\n",
    "        passRateText = passRateElement.text\n",
    "        passRate = passRateText[\n",
    "            passRateText.index(\"(\") + 1 : passRateText.index(\")\")\n",
    "        ].strip()\n",
    "    except NoSuchElementException:\n",
    "        passRate = \"\"\n",
    "\n",
    "    # refs\n",
    "    try:\n",
    "        refElement = driver.find_element(\n",
    "            By.CSS_SELECTOR,\n",
    "            \"body > div.container > div:nth-child(2) > div > div:nth-child(5) > div\",\n",
    "        )\n",
    "        ref = refElement.text\n",
    "    except NoSuchElementException:\n",
    "        ref = \"\"\n",
    "\n",
    "    # Append Data\n",
    "    probNums.append(probNum)\n",
    "    titles.append(title)\n",
    "    tags.append(tag)\n",
    "    passRates.append(passRate)\n",
    "    refs.append(ref)\n",
    "\n",
    "# Export to Excel\n",
    "data = {\n",
    "    \"題號\": probNums,\n",
    "    \"題目\": titles,\n",
    "    \"標籤\": tags,\n",
    "    \"通過率\": passRates,\n",
    "    \"出處\": refs,\n",
    "}\n",
    "\n",
    "# Import pandas as pd\n",
    "pd.DataFrame(data).to_excel(\"Zerojudge.xlsx\", index=False)"
   ]
  },
  {
   "cell_type": "markdown",
   "metadata": {},
   "source": [
    "# Quit"
   ]
  },
  {
   "cell_type": "code",
   "execution_count": 4,
   "metadata": {},
   "outputs": [],
   "source": [
    "# Close the browser\n",
    "driver.quit()"
   ]
  }
 ],
 "metadata": {
  "kernelspec": {
   "display_name": "Python 3",
   "language": "python",
   "name": "python3"
  },
  "language_info": {
   "codemirror_mode": {
    "name": "ipython",
    "version": 3
   },
   "file_extension": ".py",
   "mimetype": "text/x-python",
   "name": "python",
   "nbconvert_exporter": "python",
   "pygments_lexer": "ipython3",
   "version": "3.12.2"
  }
 },
 "nbformat": 4,
 "nbformat_minor": 2
}
